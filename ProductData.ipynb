{
  "nbformat": 4,
  "nbformat_minor": 0,
  "metadata": {
    "colab": {
      "provenance": []
    },
    "kernelspec": {
      "name": "python3",
      "display_name": "Python 3"
    },
    "language_info": {
      "name": "python"
    }
  },
  "cells": [
    {
      "cell_type": "markdown",
      "source": [
        "Отношения: продукты, категории и их связи.\n",
        "\n",
        "Каждому продукту может соответствовать несколько категорий или ни одной.\n",
        "\n",
        "А каждой категории может соответствовать несколько продуктов или ни одного."
      ],
      "metadata": {
        "id": "4rBxhmK6C8-z"
      }
    },
    {
      "cell_type": "code",
      "source": [
        "!pip install findspark\n",
        "!pip install pyspark"
      ],
      "metadata": {
        "colab": {
          "base_uri": "https://localhost:8080/"
        },
        "id": "aSpkAjDGD0yT",
        "outputId": "15f8f326-be98-4f6a-8af3-5efdde2b69aa"
      },
      "execution_count": null,
      "outputs": [
        {
          "output_type": "stream",
          "name": "stdout",
          "text": [
            "Requirement already satisfied: findspark in /usr/local/lib/python3.10/dist-packages (2.0.1)\n",
            "Traceback (most recent call last):\n",
            "  File \"/usr/local/lib/python3.10/dist-packages/pip/_vendor/pkg_resources/__init__.py\", line 3108, in _dep_map\n",
            "    return self.__dep_map\n",
            "  File \"/usr/local/lib/python3.10/dist-packages/pip/_vendor/pkg_resources/__init__.py\", line 2901, in __getattr__\n",
            "    raise AttributeError(attr)\n",
            "AttributeError: _DistInfoDistribution__dep_map\n",
            "\n",
            "During handling of the above exception, another exception occurred:\n",
            "\n",
            "Traceback (most recent call last):\n",
            "  File \"/usr/local/lib/python3.10/dist-packages/pip/_vendor/pkg_resources/__init__.py\", line 3099, in _parsed_pkg_info\n",
            "    return self._pkg_info\n",
            "  File \"/usr/local/lib/python3.10/dist-packages/pip/_vendor/pkg_resources/__init__.py\", line 2901, in __getattr__\n",
            "    raise AttributeError(attr)\n",
            "AttributeError: _pkg_info. Did you mean: 'egg_info'?\n",
            "\n",
            "During handling of the above exception, another exception occurred:\n",
            "\n",
            "Traceback (most recent call last):\n",
            "  File \"/usr/local/lib/python3.10/dist-packages/pip/_internal/cli/base_command.py\", line 169, in exc_logging_wrapper\n",
            "    status = run_func(*args)\n",
            "  File \"/usr/local/lib/python3.10/dist-packages/pip/_internal/cli/req_command.py\", line 242, in wrapper\n",
            "    return func(self, options, args)\n",
            "  File \"/usr/local/lib/python3.10/dist-packages/pip/_internal/commands/install.py\", line 441, in run\n",
            "    conflicts = self._determine_conflicts(to_install)\n",
            "  File \"/usr/local/lib/python3.10/dist-packages/pip/_internal/commands/install.py\", line 572, in _determine_conflicts\n",
            "    return check_install_conflicts(to_install)\n",
            "  File \"/usr/local/lib/python3.10/dist-packages/pip/_internal/operations/check.py\", line 101, in check_install_conflicts\n",
            "    package_set, _ = create_package_set_from_installed()\n",
            "  File \"/usr/local/lib/python3.10/dist-packages/pip/_internal/operations/check.py\", line 42, in create_package_set_from_installed\n",
            "    dependencies = list(dist.iter_dependencies())\n",
            "  File \"/usr/local/lib/python3.10/dist-packages/pip/_internal/metadata/pkg_resources.py\", line 216, in iter_dependencies\n",
            "    return self._dist.requires(extras)\n",
            "  File \"/usr/local/lib/python3.10/dist-packages/pip/_vendor/pkg_resources/__init__.py\", line 2821, in requires\n",
            "    dm = self._dep_map\n",
            "  File \"/usr/local/lib/python3.10/dist-packages/pip/_vendor/pkg_resources/__init__.py\", line 3110, in _dep_map\n",
            "    self.__dep_map = self._compute_dependencies()\n",
            "  File \"/usr/local/lib/python3.10/dist-packages/pip/_vendor/pkg_resources/__init__.py\", line 3119, in _compute_dependencies\n",
            "    for req in self._parsed_pkg_info.get_all('Requires-Dist') or []:\n",
            "  File \"/usr/local/lib/python3.10/dist-packages/pip/_vendor/pkg_resources/__init__.py\", line 3102, in _parsed_pkg_info\n",
            "    self._pkg_info = email.parser.Parser().parsestr(metadata)\n",
            "  File \"/usr/lib/python3.10/email/parser.py\", line 67, in parsestr\n",
            "    return self.parse(StringIO(text), headersonly=headersonly)\n",
            "  File \"/usr/lib/python3.10/email/parser.py\", line 56, in parse\n",
            "    feedparser.feed(data)\n",
            "  File \"/usr/lib/python3.10/email/feedparser.py\", line 176, in feed\n",
            "    self._call_parse()\n",
            "  File \"/usr/lib/python3.10/email/feedparser.py\", line 180, in _call_parse\n",
            "    self._parse()\n",
            "  File \"/usr/lib/python3.10/email/feedparser.py\", line 464, in _parsegen\n",
            "    for line in self._input:\n",
            "  File \"/usr/lib/python3.10/email/feedparser.py\", line 129, in __next__\n",
            "    line = self.readline()\n",
            "KeyboardInterrupt\n",
            "\n",
            "During handling of the above exception, another exception occurred:\n",
            "\n",
            "Traceback (most recent call last):\n",
            "  File \"/usr/local/bin/pip3\", line 8, in <module>\n",
            "    sys.exit(main())\n",
            "  File \"/usr/local/lib/python3.10/dist-packages/pip/_internal/cli/main.py\", line 79, in main\n",
            "    return command.main(cmd_args)\n",
            "  File \"/usr/local/lib/python3.10/dist-packages/pip/_internal/cli/base_command.py\", line 101, in main\n",
            "    return self._main(args)\n",
            "  File \"/usr/local/lib/python3.10/dist-packages/pip/_internal/cli/base_command.py\", line 223, in _main\n",
            "    return run(options, args)\n",
            "  File \"/usr/local/lib/python3.10/dist-packages/pip/_internal/cli/base_command.py\", line 206, in exc_logging_wrapper\n",
            "    logger.critical(\"Operation cancelled by user\")\n",
            "  File \"/usr/lib/python3.10/logging/__init__.py\", line 1524, in critical\n",
            "    self._log(CRITICAL, msg, args, **kwargs)\n",
            "  File \"/usr/lib/python3.10/logging/__init__.py\", line 1612, in _log\n",
            "    fn, lno, func, sinfo = self.findCaller(stack_info, stacklevel)\n",
            "  File \"/usr/lib/python3.10/logging/__init__.py\", line 1549, in findCaller\n",
            "    def findCaller(self, stack_info=False, stacklevel=1):\n",
            "KeyboardInterrupt\n",
            "^C\n",
            "Requirement already satisfied: pyspark in /usr/local/lib/python3.10/dist-packages (3.5.1)\n",
            "Requirement already satisfied: py4j==0.10.9.7 in /usr/local/lib/python3.10/dist-packages (from pyspark) (0.10.9.7)\n"
          ]
        }
      ]
    },
    {
      "cell_type": "code",
      "execution_count": null,
      "metadata": {
        "colab": {
          "base_uri": "https://localhost:8080/"
        },
        "id": "xekMsQ89CWYU",
        "outputId": "ee56184a-6984-4254-a54f-fb8a92c01f81"
      },
      "outputs": [
        {
          "output_type": "stream",
          "name": "stdout",
          "text": [
            "+----------+------------+\n",
            "|product_id|product_name|\n",
            "+----------+------------+\n",
            "|         1|      Laptop|\n",
            "|         2|       Mouse|\n",
            "|         3|    Keyboard|\n",
            "|         4|     Monitor|\n",
            "|         5|         CPU|\n",
            "+----------+------------+\n",
            "\n",
            "+-----------+--------------------+\n",
            "|category_id|       category_name|\n",
            "+-----------+--------------------+\n",
            "|          1|         Electronics|\n",
            "|          2|Computer Accessories|\n",
            "|          3|         Peripherals|\n",
            "+-----------+--------------------+\n",
            "\n",
            "+----------+-----------+\n",
            "|product_id|category_id|\n",
            "+----------+-----------+\n",
            "|         1|          1|\n",
            "|         2|          2|\n",
            "|         3|          2|\n",
            "|         4|          1|\n",
            "|         4|          3|\n",
            "+----------+-----------+\n",
            "\n"
          ]
        }
      ],
      "source": [
        "from pyspark.sql import SparkSession, Row\n",
        "\n",
        "# Создание сессии Spark\n",
        "spark = SparkSession.builder.appName(\"product\").getOrCreate()\n",
        "\n",
        "# Создание DataFrame для продуктов\n",
        "product_data = [\n",
        "    Row(product_id=1, product_name='Laptop'),\n",
        "    Row(product_id=2, product_name='Mouse'),\n",
        "    Row(product_id=3, product_name='Keyboard'),\n",
        "    Row(product_id=4, product_name='Monitor'),\n",
        "    Row(product_id = 5, product_name='CPU')\n",
        "]\n",
        "product_df = spark.createDataFrame(product_data)\n",
        "\n",
        "# Создание DataFrame для категорий\n",
        "category_data = [\n",
        "    Row(category_id=1, category_name='Electronics'),\n",
        "    Row(category_id=2, category_name='Computer Accessories'),\n",
        "    Row(category_id=3, category_name='Peripherals')\n",
        "]\n",
        "category_df = spark.createDataFrame(category_data)\n",
        "\n",
        "# Создание DataFrame для связей между продуктами и категориями\n",
        "product_category_data = [\n",
        "    Row(product_id=1, category_id=1),  # Laptop - Electronics\n",
        "    Row(product_id=2, category_id=2),  # Mouse - Computer Accessories\n",
        "    Row(product_id=3, category_id=2),  # Keyboard - Computer Accessories\n",
        "    Row(product_id=4, category_id=1),  # Monitor - Electronics\n",
        "    Row(product_id=4, category_id=3)   # Monitor - Peripherals\n",
        "]\n",
        "product_category_df = spark.createDataFrame(product_category_data)\n",
        "\n",
        "# Вывод созданных DataFrame\n",
        "product_df.show()\n",
        "category_df.show()\n",
        "product_category_df.show()\n"
      ]
    },
    {
      "cell_type": "code",
      "source": [
        "def product_cat(product_df, product_category_df, category_df):\n",
        "  product_category_pairs = product_df.join(product_category_df, 'product_id', how='left') \\\n",
        "    .join(category_df, 'category_id', how='left') \\\n",
        "    .select('product_name', 'category_name')\n",
        "  return product_category_pairs"
      ],
      "metadata": {
        "id": "84j29rgeUFPs"
      },
      "execution_count": null,
      "outputs": []
    },
    {
      "cell_type": "code",
      "source": [
        "product_category_pairs = product_cat(product_df, product_category_df, category_df)\n",
        "product_category_pairs.show()"
      ],
      "metadata": {
        "colab": {
          "base_uri": "https://localhost:8080/"
        },
        "id": "oEPCYDcyUdrB",
        "outputId": "5ed91f35-3d33-4a91-98b8-b75d5b085cb1"
      },
      "execution_count": null,
      "outputs": [
        {
          "output_type": "stream",
          "name": "stdout",
          "text": [
            "+------------+--------------------+\n",
            "|product_name|       category_name|\n",
            "+------------+--------------------+\n",
            "|         CPU|                NULL|\n",
            "|      Laptop|         Electronics|\n",
            "|     Monitor|         Electronics|\n",
            "|     Monitor|         Peripherals|\n",
            "|       Mouse|Computer Accessories|\n",
            "|    Keyboard|Computer Accessories|\n",
            "+------------+--------------------+\n",
            "\n"
          ]
        }
      ]
    },
    {
      "cell_type": "code",
      "source": [
        "spark.stop()"
      ],
      "metadata": {
        "id": "akXflWwvElxA"
      },
      "execution_count": null,
      "outputs": []
    }
  ]
}